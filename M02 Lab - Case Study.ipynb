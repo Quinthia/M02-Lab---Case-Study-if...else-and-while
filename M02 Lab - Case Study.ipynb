{
 "cells": [
  {
   "cell_type": "code",
   "execution_count": null,
   "id": "bd805813",
   "metadata": {},
   "outputs": [],
   "source": [
    "# Name: Your Name\n",
    "# Date: Todays Date\n",
    "# Description: The program decides weather the student has made Dean's list\n",
    "# Or Honor Roll.\n",
    "# Asking the user to enter student last name\n",
    "lastname = input(\"Enter Student Last Name: \")\n",
    "# Checking if the last name entered 'ZZZ' or not.\n",
    "while lastname != \"ZZZ\":\n",
    "    # Asking the user to enter student First name\n",
    "    firstname = input(\"Enter Student First Name: \")\n",
    "    # Asking the user to enter Student GPA\n",
    "    gpa = float(input(\"Enter Student GPA: \"))\n",
    "    # Checking if the gpa is 3.5 or more\n",
    "    # If it is then student has made Dean's List\n",
    "    if gpa >= 3.5:\n",
    "        print(\"{} {} has made the Dean's List.\".format(firstname, lastname))\n",
    "    # Checking if the gpa is 3.25 or more\n",
    "    # Then student has made Honor Roll\n",
    "    else:\n",
    "        if gpa >= 3.25:\n",
    "            print(\"{} {} has made the Honor Roll.\".format(firstname, lastname)) \n",
    "    lastname = input(\"\\nEnter Student Last Name: \")\n",
    "    # Repeating the process until 'ZZZ' entered"
   ]
  }
 ],
 "metadata": {
  "kernelspec": {
   "display_name": "Python 3 (ipykernel)",
   "language": "python",
   "name": "python3"
  },
  "language_info": {
   "codemirror_mode": {
    "name": "ipython",
    "version": 3
   },
   "file_extension": ".py",
   "mimetype": "text/x-python",
   "name": "python",
   "nbconvert_exporter": "python",
   "pygments_lexer": "ipython3",
   "version": "3.9.13"
  }
 },
 "nbformat": 4,
 "nbformat_minor": 5
}
